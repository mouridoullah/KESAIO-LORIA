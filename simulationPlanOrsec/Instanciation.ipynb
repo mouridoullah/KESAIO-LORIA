{
 "cells": [
  {
   "cell_type": "code",
   "execution_count": 1,
   "metadata": {},
   "outputs": [],
   "source": [
    "from modules import processing_csv_data\n",
    "from modules.submodules import dis, extracting_coordinates, adding_custom_marker, executing_requete_sparql, _point, queringWikidata\n",
    "import csv\n",
    "from rdflib.plugins.sparql import prepareQuery\n",
    "from rdflib import Graph, URIRef, Literal, Namespace, XSD\n",
    "import osmnx as ox\n",
    "import folium"
   ]
  },
  {
   "cell_type": "code",
   "execution_count": 2,
   "metadata": {},
   "outputs": [],
   "source": [
    "kesaio = Namespace(\"http://www.semanticweb.org/mandiaye/ontologies/2023/7/CatastropheV2/\")\n",
    "common_core_ns = Namespace(\"http://www.ontologyrepository.com/CommonCoreOntologies/\")\n",
    "hasRole = URIRef(\"http://purl.obolibrary.org/obo/RO_0000087\")\n",
    "participatesIn = URIRef(\"http://purl.obolibrary.org/obo/RO_0000056\")"
   ]
  },
  {
   "cell_type": "markdown",
   "metadata": {},
   "source": [
    "# L'instanciation"
   ]
  },
  {
   "cell_type": "code",
   "execution_count": 3,
   "metadata": {},
   "outputs": [],
   "source": [
    "rawData = \"simulationPlanOrsec/data/dataFromWikidata.csv\"\n",
    "processedData = \"simulationPlanOrsec/data/dataFromWikidataNew.csv\"\n",
    "processing_csv_data.process_csv_data(rawData, processedData)\n",
    "g = Graph()\n",
    "g.parse(\"simulationPlanOrsec/Ontologie/file10.rdf\")\n",
    "with open(processedData, \"r\", newline=\"\", encoding=\"utf-8\") as csvfile:\n",
    "    csvreader = csv.DictReader(csvfile)\n",
    "    for row in csvreader:\n",
    "        uri_op = dis.catastrophe(g,row)"
   ]
  },
  {
   "cell_type": "code",
   "execution_count": 4,
   "metadata": {},
   "outputs": [
    {
     "name": "stdout",
     "output_type": "stream",
     "text": [
      "Longitude : 141.933, Latitude : 42.671\n"
     ]
    }
   ],
   "source": [
    "point = coordonnees = row[\"coordonnees\"].split(\"/\")[-1]\n",
    "lon, lat = extracting_coordinates.extract_coordinates(point)\n",
    "print(f\"Longitude : {lon}, Latitude : {lat}\")"
   ]
  },
  {
   "cell_type": "code",
   "execution_count": 5,
   "metadata": {},
   "outputs": [],
   "source": [
    "carto = (lat, lon)\n",
    "G = ox.graph_from_point(carto, dist=15000, network_type=\"drive\")\n",
    "m = ox.plot_graph_folium(G)\n",
    "tileset_url = 'https://tile.openstreetmap.org/{z}/{x}/{y}.png'\n",
    "folium.TileLayer(\n",
    "    tiles=tileset_url,\n",
    "    max_zoom=19,\n",
    "    attr='<a href=\"http://www.openstreetmap.org/copyright\">OpenStreetMap</a>'\n",
    ").add_to(m)"
   ]
  },
  {
   "cell_type": "code",
   "execution_count": 6,
   "metadata": {},
   "outputs": [],
   "source": [
    "icone_path = \"/home/mandiaye/LORIA/V2/icone/tremblement-de-terre.png\"\n",
    "custom_icon = folium.CustomIcon(\n",
    "    icon_image=icone_path,\n",
    "    icon_size=(30, 30),  \n",
    ")\n",
    "adding_custom_marker.add_custom_marker(lon, lat, custom_icon, m, tooltip=row[\"description\"])\n",
    "m"
   ]
  },
  {
   "cell_type": "markdown",
   "metadata": {},
   "source": [
    "# PRV (Point de rassemblement des victimes)"
   ]
  },
  {
   "cell_type": "code",
   "execution_count": 7,
   "metadata": {},
   "outputs": [],
   "source": [
    "point1 = (lat, lon)\n",
    "point2 = (42.57625, 141.923167)\n",
    "new_distance = 200 \n",
    "\n",
    "latPRV, lonPRV = _point.intermediate_point(point1, point2, new_distance)"
   ]
  },
  {
   "cell_type": "code",
   "execution_count": 8,
   "metadata": {},
   "outputs": [],
   "source": [
    "uri_prv = dis.create_PRV(g, lonPRV, latPRV)"
   ]
  },
  {
   "cell_type": "code",
   "execution_count": 9,
   "metadata": {},
   "outputs": [],
   "source": [
    "custom_icon = folium.CustomIcon(\n",
    "    icon_image=\"/home/mandiaye/LORIA/V2/icone/point-de-rencontre.png\",\n",
    "    icon_size=(32, 32),  \n",
    "    icon_anchor=(16, 32),  \n",
    ")\n",
    "tooltip = \"PRV (Point de rassemblement des victimes)\"\n",
    "adding_custom_marker.add_custom_marker(lonPRV, latPRV, custom_icon, m, tooltip=tooltip)\n",
    "\n",
    "m"
   ]
  },
  {
   "cell_type": "markdown",
   "metadata": {},
   "source": [
    "# Acte de Ramassage des victimes"
   ]
  },
  {
   "cell_type": "code",
   "execution_count": 10,
   "metadata": {},
   "outputs": [],
   "source": [
    "uri_actDeRamassage = dis.createRamassage_act(g, uri_prv, uri_op)"
   ]
  },
  {
   "cell_type": "code",
   "execution_count": 11,
   "metadata": {},
   "outputs": [],
   "source": [
    "nombreMorts = int(row[\"nombreMorts\"]) \n",
    "nombreBlesse = int(row[\"nombreBlesse\"])\n",
    "\n",
    "nombreDeVictime = nombreMorts + nombreBlesse\n",
    "\n",
    "nombre_pompiers = 0\n",
    "nombre_policiers = 0\n",
    "nombre_officiers_samu = 0\n",
    "\n",
    "if nombreDeVictime <= 9:\n",
    "    nombre_pompiers = 2\n",
    "    nombre_policiers = 1\n",
    "    nombre_officiers_samu = 2\n",
    "elif 7 <= nombreDeVictime <= 25:\n",
    "    nombre_pompiers = 5\n",
    "    nombre_policiers = 2\n",
    "    nombre_officiers_samu = 5\n",
    "else:\n",
    "    nombre_pompiers = 10\n",
    "    nombre_policiers = 5\n",
    "    nombre_officiers_samu = 10"
   ]
  },
  {
   "cell_type": "code",
   "execution_count": 12,
   "metadata": {},
   "outputs": [],
   "source": [
    "dis.create_personnel(g, uri_actDeRamassage, nombre_pompiers, nombre_policiers, nombre_officiers_samu)"
   ]
  },
  {
   "cell_type": "markdown",
   "metadata": {},
   "source": [
    "###### Écrire et exécuter une requête SPARQL pour obtenir toutes les instances de la classe \"Victime\" et mettre \"ramassé\" à True"
   ]
  },
  {
   "cell_type": "code",
   "execution_count": 13,
   "metadata": {},
   "outputs": [],
   "source": [
    "requete_sparql = \"\"\"\n",
    "    SELECT ?victime\n",
    "    WHERE {\n",
    "        ?victime rdf:type :Victime.\n",
    "    }\n",
    "\"\"\"\n",
    "results = g.query(requete_sparql)\n",
    "for row in results:\n",
    "    victime_instance = row.victime\n",
    "    g.add((uri_actDeRamassage, kesaio[\"ramasser\"], victime_instance))\n",
    "    g.add((victime_instance, kesaio[\"ramassé\"], Literal(True, datatype=XSD.boolean)))"
   ]
  },
  {
   "cell_type": "markdown",
   "metadata": {},
   "source": [
    "# Le poste médical avancé (PMA)"
   ]
  },
  {
   "cell_type": "code",
   "execution_count": 14,
   "metadata": {},
   "outputs": [],
   "source": [
    "establishments = {\n",
    "    \"Hôpital\": \"Q16917\",\n",
    "    \"Police\": \"Q35535\",\n",
    "    \"Gendarmerie\": \"Q204310\",\n",
    "    \"CasernePompier\": \"Q1195942\",\n",
    "    \"École\": \"Q3914\",\n",
    "    \"Université\": \"Q3918\"\n",
    "}"
   ]
  },
  {
   "cell_type": "code",
   "execution_count": 15,
   "metadata": {},
   "outputs": [],
   "source": [
    "resultsHopitaux = queringWikidata.search_nearby_entities(lat, lon, establishments[\"Hôpital\"])"
   ]
  },
  {
   "cell_type": "markdown",
   "metadata": {},
   "source": [
    "##### Hôpitaux proches"
   ]
  },
  {
   "cell_type": "code",
   "execution_count": 16,
   "metadata": {},
   "outputs": [],
   "source": [
    "for result in resultsHopitaux['results']['bindings']:\n",
    "    id = result['entity']['value'].split('/')[-1]\n",
    "    name = result['entityLabel']['value']\n",
    "    distance = result[\"dist\"][\"value\"]\n",
    "    geoLoc = result[\"location\"][\"value\"]\n",
    "    print(f\"ID Wikidata : {id} - Nom : {name} - Localisation : {geoLoc} - Distance : {distance} km\")"
   ]
  },
  {
   "cell_type": "code",
   "execution_count": 17,
   "metadata": {},
   "outputs": [],
   "source": [
    "for result in resultsHopitaux[\"results\"][\"bindings\"]:\n",
    "    longitude, latitude = extracting_coordinates.extract_coordinates(result[\"location\"][\"value\"])\n",
    "    name = result['entityLabel']['value']\n",
    "    distance = result[\"dist\"][\"value\"]\n",
    "\n",
    "    custom_icon = folium.CustomIcon(\n",
    "        icon_image=\"/home/mandiaye/LORIA/V2/icone/hopital.png\",\n",
    "        icon_size=(32, 32),  \n",
    "        icon_anchor=(16, 32),  \n",
    "    )\n",
    "    adding_custom_marker.add_custom_marker(longitude, latitude, custom_icon, m, tooltip=name)"
   ]
  },
  {
   "cell_type": "code",
   "execution_count": 18,
   "metadata": {},
   "outputs": [],
   "source": [
    "distance_geo_dict = {}\n",
    "for result in resultsHopitaux['results']['bindings']:\n",
    "    distance = float(result[\"dist\"][\"value\"])\n",
    "    geo_location = result[\"location\"][\"value\"]\n",
    "    if distance > 10:\n",
    "        distance_geo_dict[distance] = geo_location  \n",
    "\n",
    "min_distance_above_10 = min([d for d in distance_geo_dict.keys()])\n",
    "geo_location = distance_geo_dict[min_distance_above_10].split('(')[1].split(')')[0]\n",
    "latitude, longitude = geo_location.split()"
   ]
  },
  {
   "cell_type": "code",
   "execution_count": 19,
   "metadata": {},
   "outputs": [],
   "source": [
    "latPMA, lonPMA = _point.intermediate_point(point1, point2, 1000)"
   ]
  },
  {
   "cell_type": "code",
   "execution_count": 20,
   "metadata": {},
   "outputs": [],
   "source": [
    "uri_pma = dis.create_medical_post(g, lonPMA, latPMA)"
   ]
  },
  {
   "cell_type": "code",
   "execution_count": 21,
   "metadata": {},
   "outputs": [],
   "source": [
    "custom_icon = folium.CustomIcon(\n",
    "    icon_image=\"/home/mandiaye/LORIA/V2/icone/pma.png\",\n",
    "    icon_size=(32, 32),  \n",
    "    icon_anchor=(16, 32),  \n",
    ")\n",
    "tooltip=\"Le poste médical avancé (PMA)\"\n",
    "adding_custom_marker.add_custom_marker(lonPMA, latPMA, custom_icon, m, tooltip=tooltip)\n",
    "m"
   ]
  },
  {
   "cell_type": "markdown",
   "metadata": {},
   "source": [
    "### Acte de secours des victimes"
   ]
  },
  {
   "cell_type": "code",
   "execution_count": 22,
   "metadata": {},
   "outputs": [],
   "source": [
    "uri_actDeSoins = dis.create_medical_aid(g, uri_pma, uri_op)"
   ]
  },
  {
   "cell_type": "markdown",
   "metadata": {},
   "source": [
    "##### Récupérer les victimes à soigner"
   ]
  },
  {
   "cell_type": "code",
   "execution_count": 23,
   "metadata": {},
   "outputs": [
    {
     "name": "stdout",
     "output_type": "stream",
     "text": [
      "2\n"
     ]
    }
   ],
   "source": [
    "requete_sparql = \"\"\"\n",
    "    SELECT (COUNT(?victime) as ?blessesASoigner) \n",
    "    WHERE {\n",
    "        ?victime rdf:type kesaio:Victime.\n",
    "        ?victime kesaio:has_status ?Code_etat.\n",
    "        FILTER (?Code_etat = kesaio:ur)\n",
    "    }\n",
    "\"\"\"\n",
    "resultats = executing_requete_sparql.executer_requete_sparql(g, requete_sparql, kesaio, common_core_ns)\n",
    "for row in resultats:\n",
    "    blessesASoigner = row.blessesASoigner\n",
    "\n",
    "blessesASoigner = int(blessesASoigner)\n",
    "print(blessesASoigner)"
   ]
  },
  {
   "cell_type": "markdown",
   "metadata": {},
   "source": [
    "###### Calculez combien de médecins et d'infirmiers sont nécessaires"
   ]
  },
  {
   "cell_type": "code",
   "execution_count": 24,
   "metadata": {},
   "outputs": [
    {
     "name": "stdout",
     "output_type": "stream",
     "text": [
      "Nombre total de victimes : 2\n",
      "Nombre de médecins nécessaires : 1\n",
      "Nombre d'infirmiers nécessaires : 1\n"
     ]
    }
   ],
   "source": [
    "nombre_de_medecins = blessesASoigner // 5\n",
    "nombre_d_infirmiers = blessesASoigner // 5\n",
    "\n",
    "if blessesASoigner % 5 != 0:\n",
    "    nombre_de_medecins += 1\n",
    "    nombre_d_infirmiers += 1\n",
    "\n",
    "print(\"Nombre total de victimes :\", blessesASoigner)\n",
    "print(\"Nombre de médecins nécessaires :\", nombre_de_medecins)\n",
    "print(\"Nombre d'infirmiers nécessaires :\", nombre_d_infirmiers)"
   ]
  },
  {
   "cell_type": "code",
   "execution_count": 25,
   "metadata": {},
   "outputs": [],
   "source": [
    "dis.create_medical_staff(g, uri_actDeSoins, nombre_de_medecins, nombre_d_infirmiers)"
   ]
  },
  {
   "cell_type": "markdown",
   "metadata": {},
   "source": [
    "###### Écrire et exécuter une requête SPARQL pour obtenir toutes les instances de la classe \"Victime\" et mettre \"soigné\" à True"
   ]
  },
  {
   "cell_type": "code",
   "execution_count": 26,
   "metadata": {},
   "outputs": [],
   "source": [
    "requete_sparql = \"\"\"\n",
    "    SELECT ?blessesASoigner\n",
    "    WHERE {\n",
    "        ?blessesASoigner rdf:type kesaio:Victime.\n",
    "        ?blessesASoigner kesaio:has_status ?Code_etat.\n",
    "        FILTER (?Code_etat = kesaio:ur)\n",
    "    }\n",
    "\"\"\"\n",
    "resultats = executing_requete_sparql.executer_requete_sparql(g, requete_sparql, kesaio, common_core_ns)\n",
    "for row in resultats:\n",
    "    blessesASoigner = row.blessesASoigner\n",
    "    g.add((uri_actDeSoins, kesaio[\"soigner\"], blessesASoigner))\n",
    "    g.add((blessesASoigner, kesaio[\"soigné\"], Literal(True, datatype=XSD.boolean)))"
   ]
  },
  {
   "cell_type": "markdown",
   "metadata": {},
   "source": [
    "##### Suivi psycho medical"
   ]
  },
  {
   "cell_type": "markdown",
   "metadata": {},
   "source": [
    "###### Récupérer les victimes souffrant d'un traumatisme psychologique"
   ]
  },
  {
   "cell_type": "code",
   "execution_count": 27,
   "metadata": {},
   "outputs": [
    {
     "name": "stdout",
     "output_type": "stream",
     "text": [
      "1\n"
     ]
    }
   ],
   "source": [
    "requete_sparql = \"\"\"\n",
    "    SELECT (COUNT(?victime) as ?suivi_psycho_medical) \n",
    "    WHERE {\n",
    "        ?victime rdf:type kesaio:Victime.\n",
    "        ?victime kesaio:has_status ?Code_etat.\n",
    "        FILTER (?Code_etat = kesaio:ump)\n",
    "    }\n",
    "\"\"\"\n",
    "resultats = executing_requete_sparql.executer_requete_sparql(g, requete_sparql, kesaio)\n",
    "for row in resultats:\n",
    "    suivi_psycho_medical = row.suivi_psycho_medical\n",
    "\n",
    "suivi_psycho_medical = int(suivi_psycho_medical)\n",
    "print(suivi_psycho_medical)"
   ]
  },
  {
   "cell_type": "code",
   "execution_count": 28,
   "metadata": {},
   "outputs": [],
   "source": [
    "nombre_psychologues = suivi_psycho_medical // 5\n",
    "if suivi_psycho_medical % 5 != 0:\n",
    "    nombre_psychologues += 1"
   ]
  },
  {
   "cell_type": "code",
   "execution_count": 29,
   "metadata": {},
   "outputs": [],
   "source": [
    "dis.create_other_staff(g, uri_actDeSoins, nombre_psychologues)"
   ]
  },
  {
   "cell_type": "code",
   "execution_count": 30,
   "metadata": {},
   "outputs": [],
   "source": [
    "requete_sparql = \"\"\"\n",
    "    SELECT ?suivi_psycho_medical\n",
    "    WHERE {\n",
    "        ?suivi_psycho_medical rdf:type kesaio:Victime.\n",
    "        ?suivi_psycho_medical kesaio:has_status ?Code_etat.\n",
    "        FILTER (?Code_etat = kesaio:ump)\n",
    "    }\n",
    "\"\"\"\n",
    "resultats = executing_requete_sparql.executer_requete_sparql(g, requete_sparql, kesaio)\n",
    "for row in resultats:\n",
    "    suivi_psycho_medical = row.suivi_psycho_medical\n",
    "    g.add((uri_actDeSoins, kesaio[\"soigner\"], suivi_psycho_medical))\n",
    "    g.add((suivi_psycho_medical, kesaio[\"soigné\"], Literal(True, datatype=XSD.boolean)))"
   ]
  },
  {
   "cell_type": "markdown",
   "metadata": {},
   "source": [
    "##### Gestion des morts"
   ]
  },
  {
   "cell_type": "code",
   "execution_count": 31,
   "metadata": {},
   "outputs": [],
   "source": [
    "nombre_pompiers = nombreMorts // 5"
   ]
  },
  {
   "cell_type": "code",
   "execution_count": 32,
   "metadata": {},
   "outputs": [],
   "source": [
    "dis.create_PompierPourLesMorts(g, uri_actDeSoins, nombre_pompiers)"
   ]
  },
  {
   "cell_type": "code",
   "execution_count": 33,
   "metadata": {},
   "outputs": [],
   "source": [
    "requete_sparql = \"\"\"\n",
    "    SELECT ?victime\n",
    "    WHERE {\n",
    "        ?victime rdf:type kesaio:Victime.\n",
    "        ?victime kesaio:has_status ?Code_etat.\n",
    "        FILTER (?Code_etat = kesaio:décédé)\n",
    "    }\n",
    "\"\"\"\n",
    "resultats = executing_requete_sparql.executer_requete_sparql(g, requete_sparql, kesaio)\n",
    "for row in resultats:\n",
    "    victime_instance = row.victime\n",
    "    g.add((victime_instance, kesaio[\"deposerAlaMorgue\"], Literal(True, datatype=XSD.boolean)))"
   ]
  },
  {
   "cell_type": "markdown",
   "metadata": {},
   "source": [
    "##### Gestion des rescapés"
   ]
  },
  {
   "cell_type": "code",
   "execution_count": 34,
   "metadata": {},
   "outputs": [],
   "source": [
    "requete_sparql = \"\"\"\n",
    "    SELECT ?victime\n",
    "    WHERE {\n",
    "        ?victime rdf:type kesaio:Victime.\n",
    "        ?victime kesaio:has_status ?Code_etat.\n",
    "        FILTER (?Code_etat = kesaio:indemne)\n",
    "    }\n",
    "\"\"\"\n",
    "resultats = executing_requete_sparql.executer_requete_sparql(g, requete_sparql, kesaio)\n",
    "for row in resultats:\n",
    "    victime_instance = row.victime\n",
    "    g.add((victime_instance, kesaio[\"relogé\"], Literal(True, datatype=XSD.boolean)))"
   ]
  },
  {
   "cell_type": "markdown",
   "metadata": {},
   "source": [
    "### Acte d'évacuation des victimes"
   ]
  },
  {
   "cell_type": "markdown",
   "metadata": {},
   "source": [
    "##### Récupérer les victimes à évacuer"
   ]
  },
  {
   "cell_type": "code",
   "execution_count": 35,
   "metadata": {},
   "outputs": [],
   "source": [
    "uri_actDEvacution = dis.create_evacuation_act(g,uri_pma, uri_op)"
   ]
  },
  {
   "cell_type": "code",
   "execution_count": 36,
   "metadata": {},
   "outputs": [
    {
     "name": "stdout",
     "output_type": "stream",
     "text": [
      "2\n"
     ]
    }
   ],
   "source": [
    "requete_sparql = \"\"\"\n",
    "    SELECT (COUNT(?victime) as ?blessesAEvacuer) \n",
    "    WHERE {\n",
    "        ?victime rdf:type kesaio:Victime.\n",
    "        ?victime kesaio:has_status ?Code_etat.\n",
    "        FILTER (?Code_etat = kesaio:ua)\n",
    "    }\n",
    "\"\"\"\n",
    "resultats = executing_requete_sparql.executer_requete_sparql(g, requete_sparql, kesaio)\n",
    "for row in resultats:\n",
    "    blessesAEvacuer = row.blessesAEvacuer\n",
    "\n",
    "blessesAEvacuer = int(blessesAEvacuer)\n",
    "print(blessesAEvacuer)"
   ]
  },
  {
   "cell_type": "code",
   "execution_count": 37,
   "metadata": {},
   "outputs": [],
   "source": [
    "nombre_ambulance = blessesAEvacuer // 5\n",
    "nombre_helicoptere = blessesAEvacuer // 10\n",
    "\n",
    "if blessesAEvacuer % 5 != 0:\n",
    "    nombre_ambulance += 1"
   ]
  },
  {
   "cell_type": "code",
   "execution_count": 38,
   "metadata": {},
   "outputs": [],
   "source": [
    "dis.add_ambulance_and_helicopter(g, uri_actDEvacution, nombre_ambulance, nombre_helicoptere)"
   ]
  },
  {
   "cell_type": "code",
   "execution_count": 39,
   "metadata": {},
   "outputs": [],
   "source": [
    "requete_sparql = \"\"\"\n",
    "    SELECT ?victime\n",
    "    WHERE {\n",
    "        ?victime rdf:type kesaio:Victime.\n",
    "        ?victime kesaio:has_status ?Code_etat.\n",
    "        FILTER (?Code_etat = kesaio:ua)\n",
    "    }\n",
    "\"\"\"\n",
    "resultats = executing_requete_sparql.executer_requete_sparql(g, requete_sparql, kesaio)\n",
    "for row in resultats:\n",
    "    victime_instance = row.victime\n",
    "    g.add((uri_actDEvacution, kesaio[\"évacuer\"], victime_instance))\n",
    "    g.add((victime_instance, kesaio[\"évacué\"], Literal(True, datatype=XSD.boolean)))"
   ]
  },
  {
   "cell_type": "code",
   "execution_count": 40,
   "metadata": {},
   "outputs": [],
   "source": [
    "shortest_paths = []\n",
    "orig_node = ox.distance.nearest_nodes(G, X=point1[1], Y=point1[0])\n",
    "G = ox.speed.add_edge_speeds(G)\n",
    "G = ox.speed.add_edge_travel_times(G)\n",
    "for result in resultsHopitaux['results']['bindings']:\n",
    "    geoLoc = result[\"location\"][\"value\"]\n",
    "    lon, lat = map(float, geoLoc[6:-1].split(\" \"))  \n",
    "    dest_node = ox.distance.nearest_nodes(G, Y=lat, X=lon)\n",
    "    route = ox.shortest_path(G, orig_node, dest_node, weight=\"travel_time\")\n",
    "    shortest_paths.append(route)\n",
    "\n",
    "fig, ax = ox.plot_graph_routes(G, routes=shortest_paths, \n",
    "                               route_colors=[\"r\", \"y\", \"b\"], \n",
    "                               route_linewidth=6, node_size=1)"
   ]
  },
  {
   "cell_type": "markdown",
   "metadata": {},
   "source": [
    "##### Enregistrez l'ontologie enrichie dans un fichier RDF "
   ]
  },
  {
   "cell_type": "code",
   "execution_count": 41,
   "metadata": {},
   "outputs": [
    {
     "data": {
      "text/plain": [
       "<Graph identifier=N2732c6a4fe1b4604b928d0a150d3fb17 (<class 'rdflib.graph.Graph'>)>"
      ]
     },
     "execution_count": 41,
     "metadata": {},
     "output_type": "execute_result"
    }
   ],
   "source": [
    "\n",
    "g.serialize(\"/home/mandiaye/LORIA/V2/monOnto/ontologie_enrichie.rdf\", format=\"xml\")"
   ]
  }
 ],
 "metadata": {
  "kernelspec": {
   "display_name": "base",
   "language": "python",
   "name": "python3"
  },
  "language_info": {
   "codemirror_mode": {
    "name": "ipython",
    "version": 3
   },
   "file_extension": ".py",
   "mimetype": "text/x-python",
   "name": "python",
   "nbconvert_exporter": "python",
   "pygments_lexer": "ipython3",
   "version": "3.9.0"
  }
 },
 "nbformat": 4,
 "nbformat_minor": 2
}
