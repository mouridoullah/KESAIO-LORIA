{
 "cells": [
  {
   "cell_type": "code",
   "execution_count": 2,
   "metadata": {},
   "outputs": [],
   "source": [
    "from modules.submodules import executing_requete_sparql\n",
    "from rdflib import Graph, URIRef, Namespace\n",
    "import random"
   ]
  },
  {
   "cell_type": "code",
   "execution_count": 3,
   "metadata": {},
   "outputs": [],
   "source": [
    "kesaio = Namespace(\"http://www.semanticweb.org/mandiaye/ontologies/2023/7/CatastropheV2/\")\n",
    "common_core_ns = Namespace(\"http://www.ontologyrepository.com/CommonCoreOntologies/\")\n",
    "hasRole = URIRef(\"http://purl.obolibrary.org/obo/RO_0000087\")\n",
    "participatesIn = URIRef(\"http://purl.obolibrary.org/obo/RO_0000056\")"
   ]
  },
  {
   "cell_type": "code",
   "execution_count": 4,
   "metadata": {},
   "outputs": [
    {
     "data": {
      "text/plain": [
       "<Graph identifier=N6703df8b20ee4efca830d0f3201469cc (<class 'rdflib.graph.Graph'>)>"
      ]
     },
     "execution_count": 4,
     "metadata": {},
     "output_type": "execute_result"
    }
   ],
   "source": [
    "g = Graph()\n",
    "g.parse(\"simulationPlanOrsec/Ontologie/ontologie_enrichie.rdf\")"
   ]
  },
  {
   "cell_type": "markdown",
   "metadata": {},
   "source": [
    "# Questions de Compétences"
   ]
  },
  {
   "cell_type": "markdown",
   "metadata": {},
   "source": [
    "##### What is the nature of the disaster <X>?"
   ]
  },
  {
   "cell_type": "code",
   "execution_count": 5,
   "metadata": {},
   "outputs": [
    {
     "name": "stdout",
     "output_type": "stream",
     "text": [
      "Séisme_de_2018_à_Hokkaidō\n",
      "Nature: Séisme\n",
      "Description: séisme_au_Japon_en_2018\n"
     ]
    }
   ],
   "source": [
    "requete_sparql = \"\"\"\n",
    "SELECT ?type ?description ?seisme\n",
    "WHERE {\n",
    "    ?seisme rdf:type ?type.\n",
    "    ?seisme kesaio:description ?description .\n",
    "}\n",
    "\"\"\"\n",
    "resultats = executing_requete_sparql.executer_requete_sparql(g, requete_sparql, kesaio)\n",
    "for resultat in resultats:\n",
    "    print(resultat.seisme.split(\"/\")[-1])\n",
    "    classe_nom = resultat.type.split(\"/\")[-1]\n",
    "    print(\"Nature:\", classe_nom)\n",
    "    print(\"Description:\", resultat.description)"
   ]
  },
  {
   "cell_type": "markdown",
   "metadata": {},
   "source": [
    "##### When did the disaster <X> take place?"
   ]
  },
  {
   "cell_type": "code",
   "execution_count": 6,
   "metadata": {},
   "outputs": [
    {
     "name": "stdout",
     "output_type": "stream",
     "text": [
      "Jour: jour_6\n",
      "Mois: mois_9\n",
      "Année: 2018\n"
     ]
    }
   ],
   "source": [
    "requete_sparql = \"\"\"\n",
    "SELECT ?jour ?mois ?annee\n",
    "WHERE {\n",
    "    ?seisme cco:occurs_on ?date.\n",
    "    ?date kesaio:has_day ?jour .\n",
    "    ?date kesaio:has_month ?mois .\n",
    "    ?date kesaio:has_year ?annee .\n",
    "}\n",
    "\"\"\"\n",
    "resultats = executing_requete_sparql.executer_requete_sparql(g, requete_sparql, kesaio, common_core_ns)\n",
    "for resultat in resultats:\n",
    "    jour = str(resultat.jour.split('/')[-1])\n",
    "    mois = str(resultat.mois.split('/')[-1])\n",
    "    annee = str(resultat.annee.split('/')[-1])\n",
    "\n",
    "    print(\"Jour:\", jour)\n",
    "    print(\"Mois:\", mois)\n",
    "    print(\"Année:\", annee)"
   ]
  },
  {
   "cell_type": "markdown",
   "metadata": {},
   "source": [
    "#### Where did the disaster <X> take place?"
   ]
  },
  {
   "cell_type": "code",
   "execution_count": 7,
   "metadata": {},
   "outputs": [
    {
     "name": "stdout",
     "output_type": "stream",
     "text": [
      "Ville: sous-préfecture_Iburi\n",
      "Pays: Japon\n"
     ]
    }
   ],
   "source": [
    "requete_sparql = \"\"\"\n",
    "SELECT ?city ?pays\n",
    "WHERE {\n",
    "    ?seisme cco:occurs_at ?city.\n",
    "    ?city cco:spatial_part_of ?pays\n",
    "}\n",
    "\"\"\"\n",
    "resultats = executing_requete_sparql.executer_requete_sparql(g, requete_sparql, kesaio, common_core_ns)\n",
    "for resultat in resultats:\n",
    "    city = str(resultat.city.split('/')[-1])\n",
    "    pays = str(resultat.pays.split('/')[-1])\n",
    "\n",
    "    print(\"Ville:\", city)\n",
    "    print(\"Pays:\", pays)"
   ]
  },
  {
   "cell_type": "markdown",
   "metadata": {},
   "source": [
    "#### What is the criticality level of the disaster <X>?"
   ]
  },
  {
   "cell_type": "code",
   "execution_count": 8,
   "metadata": {},
   "outputs": [
    {
     "name": "stdout",
     "output_type": "stream",
     "text": [
      "Sévérité de la catastrophe: Niveau 1\n",
      "Nombre de blessés: 7\n",
      "Nombre de morts: 2\n"
     ]
    }
   ],
   "source": [
    "requete_sparql = \"\"\"\n",
    "SELECT ?sévérité ?blessés ?morts\n",
    "WHERE {\n",
    "    ?seisme kesaio:nombre_de_morts ?morts .\n",
    "    ?seisme kesaio:nombre_de_blessés ?blessés .\n",
    "    ?seisme kesaio:sévérite_de_la_catastrophe ?sévérité .\n",
    "}\n",
    "\"\"\"\n",
    "resultats = executing_requete_sparql.executer_requete_sparql(g, requete_sparql, kesaio, common_core_ns)\n",
    "for resultat in resultats:\n",
    "    sévérité = str(resultat.sévérité.split('/')[-1])\n",
    "    blessés = str(resultat.blessés.split('/')[-1])\n",
    "    morts = str(resultat.morts.split('/')[-1])\n",
    "\n",
    "    print(\"Sévérité de la catastrophe:\", sévérité)\n",
    "    print(\"Nombre de blessés:\", blessés)\n",
    "    print(\"Nombre de morts:\", morts)"
   ]
  },
  {
   "cell_type": "markdown",
   "metadata": {},
   "source": [
    "#### Which ERs are involved in the operation <X>?"
   ]
  },
  {
   "cell_type": "code",
   "execution_count": 9,
   "metadata": {},
   "outputs": [
    {
     "name": "stdout",
     "output_type": "stream",
     "text": [
      "Organisation: sapeurPompier\n",
      "  Secouriste: Pompier6\n",
      "    Rôle: equipierInter\n",
      "    Identifiant: d5eae3e1-3768-4094-9aab-d26ece159788\n",
      "    Spécialité: Rechercher_des_victimes_en_cas_de_catastrophe\n",
      "\n",
      "  Secouriste: Pompier5\n",
      "    Rôle: equipierInter\n",
      "    Identifiant: 7fa3e8b6-76f8-4ae6-94e9-97266de306c5\n",
      "    Spécialité: Rechercher_des_victimes_en_cas_de_catastrophe\n",
      "\n",
      "Organisation: gendarmerie\n",
      "  Secouriste: OfficierRamassage0\n",
      "    Rôle: uniteDeRecherche\n",
      "    Identifiant: 1aa63ee3-ef15-4c3d-8e1b-76839b98ec94\n",
      "    Spécialité: Recherche_et_sauvetage\n",
      "\n",
      "  Secouriste: OfficierRamassage1\n",
      "    Rôle: uniteDeRecherche\n",
      "    Identifiant: e511d21e-67f7-4566-b492-fed68f9f308e\n",
      "    Spécialité: Recherche_et_sauvetage\n",
      "\n",
      "Organisation: policeNationale\n",
      "  Secouriste: Policier0\n",
      "    Rôle: encadrementEtapplication\n",
      "    Identifiant: cc7dd5fd-f309-4d38-acac-f6484bb6bc85\n",
      "    Spécialité: Assistance_administrative\n",
      "\n",
      "Organisation: samu\n",
      "  Secouriste: Médecin_urgentiste_0\n",
      "    Rôle: officierRassemblement\n",
      "    Identifiant: efc2bac1-b00f-4810-be6a-94797fde17dc\n",
      "    Spécialité: Utiliser_du_matériel_spécialisé, Pratiquer_des_gestes_médicaux_avancés, Coordonner_les_transferts_inter-hospitaliers\n",
      "\n",
      "  Secouriste: Infirmier_SAMU_0\n",
      "    Rôle: officierRassemblement\n",
      "    Identifiant: e3597c33-167a-4567-afed-a995fd131b7c\n",
      "    Spécialité: Apporter_un_soutien_médical_à_distance, Assurer_le_suivi_post-intervention\n",
      "\n",
      "  Secouriste: Psychologue_SAMU_0\n",
      "    Rôle: officierRassemblement\n",
      "    Identifiant: ef9f2fe6-51cb-4dd0-85b0-1c822c92dbf7\n",
      "    Spécialité: Assurer_le_suivi_post-intervention, Intervention_en_cas_de_crise, Évaluation_psychologique, Intervention_en_santé_mentale\n",
      "\n",
      "  Secouriste: ambulancier_0\n",
      "    Rôle: ambulancier\n",
      "    Identifiant: 8892a984-2f3d-475f-a8e7-2c9bf6f8a182\n",
      "    Spécialité: Transport_médicalisé_des_patients\n",
      "\n"
     ]
    }
   ],
   "source": [
    "requete_sparql = \"\"\"\n",
    "    SELECT DISTINCT ?secouriste ?organisation ?role ?identifiant ?funcType \n",
    "    WHERE {\n",
    "        ?x rdf:type/rdfs:subClassOf* kesaio:Catastrophe.\n",
    "        ?x kesaio:trigger_to ?y.\n",
    "        ?y cco:has_process_part ?z.\n",
    "        ?z cco:has_process_part ?w.\n",
    "        ?secouriste <http://purl.obolibrary.org/obo/RO_0000056> ?w.\n",
    "        ?secouriste kesaio:identifiant ?identifiant.\n",
    "        ?secouriste cco:is_affiliated_with ?organisation.\n",
    "        ?secouriste <http://purl.obolibrary.org/obo/RO_0000087> ?role.\n",
    "        ?secouriste kesaio:aPourFonction ?func.\n",
    "        ?func rdf:type ?funcType. \n",
    "        # ?funcType rdfs:comment ?funcTypeComment.\n",
    "        FILTER (?funcType != owl:NamedIndividual)\n",
    "        FILTER (?funcType != owl:Class)\n",
    "    }\n",
    "\"\"\"\n",
    "resultats = executing_requete_sparql.executer_requete_sparql(g, requete_sparql, kesaio, common_core_ns)\n",
    "resultats_par_organisation = {}\n",
    "for row in resultats:\n",
    "    secouriste = row[\"secouriste\"].split('/')[-1]\n",
    "    organisation = row[\"organisation\"].split('/')[-1]\n",
    "    role = row[\"role\"].split('/')[-1]\n",
    "    identifiant = row[\"identifiant\"].split('/')[-1]\n",
    "    secouriste_nom = secouriste.split(\"/\")[-1]  \n",
    "    organisation_nom = organisation.split(\"/\")[-1]  \n",
    "    specialite = row[\"funcType\"].split('/')[-1]\n",
    "    role_nom = role.split(\"/\")[-1]  \n",
    "    if organisation_nom not in resultats_par_organisation:\n",
    "        resultats_par_organisation[organisation_nom] = {}\n",
    "    if secouriste_nom not in resultats_par_organisation[organisation_nom]:\n",
    "        resultats_par_organisation[organisation_nom][secouriste_nom] = {}\n",
    "    if role_nom not in resultats_par_organisation[organisation_nom][secouriste_nom]:\n",
    "        resultats_par_organisation[organisation_nom][secouriste_nom][role_nom] = {\"identifiant\": identifiant, \"specialites\": []}\n",
    "    resultats_par_organisation[organisation_nom][secouriste_nom][role_nom][\"specialites\"].append(specialite)\n",
    "\n",
    "for organisation, secouristes in resultats_par_organisation.items():\n",
    "    print(\"Organisation:\", organisation)\n",
    "    for secouriste, roles in secouristes.items():\n",
    "        print(\"  Secouriste:\", secouriste)\n",
    "        for role, info in roles.items():\n",
    "            print(\"    Rôle:\", role)\n",
    "            print(\"    Identifiant:\", info[\"identifiant\"])\n",
    "            print(\"    Spécialité:\", ', '.join(info[\"specialites\"]))\n",
    "            print(\"\")"
   ]
  },
  {
   "cell_type": "markdown",
   "metadata": {},
   "source": [
    "#### Where was the advanced medical post of <X>’s healthcare units located?"
   ]
  },
  {
   "cell_type": "code",
   "execution_count": 10,
   "metadata": {},
   "outputs": [
    {
     "name": "stdout",
     "output_type": "stream",
     "text": [
      "Poste médical avancé : Poste_médical_avancé_1\n",
      "Latitude : 42.66203292626276\n",
      "Longitude : 141.93206812466875\n",
      "\n",
      "\n"
     ]
    }
   ],
   "source": [
    "requete_sparql = \"\"\"\n",
    "SELECT ?posteMedical ?latitude ?longitude\n",
    "WHERE {\n",
    "    ?posteMedical a kesaio:Poste_médical_avancé.\n",
    "    ?posteMedical kesaio:latitude ?latitude.\n",
    "    ?posteMedical kesaio:longitude ?longitude.\n",
    "}\n",
    "\"\"\"\n",
    "resultats = executing_requete_sparql.executer_requete_sparql(g, requete_sparql, kesaio, common_core_ns)\n",
    "for row in resultats:\n",
    "    poste_medical = row[\"posteMedical\"].split(\"/\")[-1]  \n",
    "    latitude = row[\"latitude\"]\n",
    "    longitude = row[\"longitude\"]\n",
    "    print(\"Poste médical avancé :\", poste_medical)\n",
    "    print(\"Latitude :\", latitude)\n",
    "    print(\"Longitude :\", longitude)\n",
    "    print(\"\\n\")"
   ]
  },
  {
   "cell_type": "markdown",
   "metadata": {},
   "source": [
    "#### Who was the operational commander of the <X> operation?"
   ]
  },
  {
   "cell_type": "code",
   "execution_count": 11,
   "metadata": {},
   "outputs": [
    {
     "name": "stdout",
     "output_type": "stream",
     "text": [
      "Commandant : Commandant_des_operations_de_secours_\n",
      "Type : Pompier\n",
      "Commandant : s2\n",
      "Type : Membre_SAMU\n",
      "Commandant : Commandant_de_la_Gendarmerie\n",
      "Type : Gendarme\n",
      "Commandant : Commandant_de_la_police\n",
      "Type : Policier\n"
     ]
    }
   ],
   "source": [
    "requete_sparql = \"\"\"\n",
    "SELECT ?roleCommandant ?commandant ?typeCommandant\n",
    "WHERE {\n",
    "    kesaio:Opération_ kesaio:estSuperviséPAr ?roleCommandant.\n",
    "    ?commandant <http://purl.obolibrary.org/obo/RO_0000087> ?roleCommandant .\n",
    "    ?commandant rdf:type ?typeCommandant.\n",
    "    FILTER (?typeCommandant != owl:NamedIndividual)\n",
    "    FILTER (?typeCommandant != owl:Class)\n",
    "}\n",
    "\"\"\"\n",
    "resultats = executing_requete_sparql.executer_requete_sparql(g, requete_sparql, kesaio, common_core_ns)\n",
    "for row in resultats:\n",
    "    role_commandant = row[\"roleCommandant\"].split(\"/\")[-1]\n",
    "    commandant = row[\"commandant\"].split(\"/\")[-1] \n",
    "    type_commandant = row[\"typeCommandant\"].split(\"/\")[-1] \n",
    "\n",
    "    print(\"Commandant :\", commandant)\n",
    "    # print(\"Rôle :\", role_commandant)\n",
    "    print(\"Type :\", type_commandant)"
   ]
  },
  {
   "cell_type": "markdown",
   "metadata": {},
   "source": [
    "#### Who was the public authority that commanded the <X> operation?"
   ]
  },
  {
   "cell_type": "code",
   "execution_count": 12,
   "metadata": {},
   "outputs": [
    {
     "name": "stdout",
     "output_type": "stream",
     "text": [
      "Instance :  p\n",
      "Role :  Préfét\n"
     ]
    }
   ],
   "source": [
    "requete_sparql = \"\"\"\n",
    "SELECT ?x ?xType\n",
    "WHERE {\n",
    "    kesaio:Opération_ kesaio:estSuperviséPAr ?cos.\n",
    "    ?cos kesaio:estSuperviséPAr ?dsi.\n",
    "    ?dsi kesaio:estSuperviséPAr ?dsis.\n",
    "    ?x kesaio:supervise ?dsis.\n",
    "    ?x rdf:type ?xType.\n",
    "    FILTER (?xType != owl:NamedIndividual)\n",
    "}\n",
    "\"\"\"\n",
    "resultats = executing_requete_sparql.executer_requete_sparql(g, requete_sparql, kesaio)\n",
    "for row in resultats:\n",
    "    autorite = row[\"x\"].split(\"/\")[-1]\n",
    "    autoriteType = row[\"xType\"].split(\"/\")[-1]\n",
    "    print(\"Instance : \",autorite)\n",
    "    print(\"Role : \", autoriteType)"
   ]
  },
  {
   "cell_type": "markdown",
   "metadata": {},
   "source": [
    "#### What were the actions of the ER [Y] in the operation <X>?"
   ]
  },
  {
   "cell_type": "code",
   "execution_count": 13,
   "metadata": {},
   "outputs": [
    {
     "name": "stdout",
     "output_type": "stream",
     "text": [
      "Actions des ERs : Acte_de_ramassage_des_victimes_1\n",
      "Actions des ERs : Acte_de_secours_des_victimes_1\n",
      "Actions des ERs : Acte_devacuation_des_victimes_1\n"
     ]
    }
   ],
   "source": [
    "requete_sparql = \"\"\"\n",
    "SELECT DISTINCT ?action\n",
    "WHERE {\n",
    "    ?x rdf:type/rdfs:subClassOf* cco:OrganizationMember.\n",
    "    ?x <http://purl.obolibrary.org/obo/RO_0000056> ?action.\n",
    "}\n",
    "\"\"\"\n",
    "resultats = executing_requete_sparql.executer_requete_sparql(g, requete_sparql, kesaio, common_core_ns)\n",
    "for row in resultats:\n",
    "    actions = row[\"action\"].split(\"/\")[-1]\n",
    "\n",
    "    print(\"Actions des ERs :\", actions)"
   ]
  },
  {
   "cell_type": "markdown",
   "metadata": {},
   "source": [
    "#### What is the definition of the term absolute emergency?"
   ]
  },
  {
   "cell_type": "code",
   "execution_count": 14,
   "metadata": {},
   "outputs": [
    {
     "name": "stdout",
     "output_type": "stream",
     "text": [
      "Commentaire : Déclenchement SMUR et ensuite régulation priorité\n",
      "SMUR = structure mobile d’urgence et de réanimation\n"
     ]
    }
   ],
   "source": [
    "requete_sparql = \"\"\"\n",
    "SELECT ?comment\n",
    "WHERE {\n",
    "    # {kesaio:UA rdfs:comment ?comment.}\n",
    "    # UNION\n",
    "    {kesaio:P0 rdfs:comment ?comment.}\n",
    "}\n",
    "\"\"\"\n",
    "resultats = executing_requete_sparql.executer_requete_sparql(g, requete_sparql, kesaio, common_core_ns)\n",
    "for row in resultats:\n",
    "    comment = row[\"comment\"]\n",
    "    print(\"Commentaire :\", comment)\n"
   ]
  },
  {
   "cell_type": "markdown",
   "metadata": {},
   "source": [
    "#### Who is competent to search and rescue persons drowning as a result of <X>?"
   ]
  },
  {
   "cell_type": "code",
   "execution_count": 15,
   "metadata": {},
   "outputs": [
    {
     "name": "stdout",
     "output_type": "stream",
     "text": [
      "Equipe : equipePlongée\n"
     ]
    }
   ],
   "source": [
    "requete_sparql = \"\"\"\n",
    "SELECT ?equipePlongee\n",
    "WHERE {\n",
    "    ?equipePlongee rdf:type/rdfs:subClassOf* kesaio:Equipe_de_plongée.\n",
    "}\n",
    "\"\"\"\n",
    "resultats = executing_requete_sparql.executer_requete_sparql(g, requete_sparql, kesaio, common_core_ns)\n",
    "for row in resultats:\n",
    "    equipePlongee = row[\"equipePlongee\"].split(\"/\")[-1]\n",
    "    print(\"Equipe :\", equipePlongee)\n"
   ]
  },
  {
   "cell_type": "markdown",
   "metadata": {},
   "source": [
    "#### How many people were affected by <X>?"
   ]
  },
  {
   "cell_type": "code",
   "execution_count": 16,
   "metadata": {},
   "outputs": [
    {
     "name": "stdout",
     "output_type": "stream",
     "text": [
      "Nombre de victimes : 9\n",
      "Nombre de secouristes : 9\n",
      "Nombre de personnes affectées : 18\n"
     ]
    }
   ],
   "source": [
    "requete_sparql = \"\"\"\n",
    "SELECT (COUNT(DISTINCT ?victime) AS ?nombreVictimes) (COUNT(DISTINCT ?secouriste) AS ?nombreSecouristes)\n",
    "WHERE {\n",
    "    ?victime rdf:type/rdfs:subClassOf* kesaio:Victime.\n",
    "    ?secouriste rdf:type/rdfs:subClassOf* cco:OrganizationMember.\n",
    "    ?secouriste <http://purl.obolibrary.org/obo/RO_0000056> ?action.\n",
    "}\n",
    "\"\"\"\n",
    "resultats = executing_requete_sparql.executer_requete_sparql(g, requete_sparql, kesaio, common_core_ns)\n",
    "for row in resultats:\n",
    "    nombre_victimes = row[\"nombreVictimes\"]\n",
    "    nombre_secouristes = row[\"nombreSecouristes\"]\n",
    "    \n",
    "    print(\"Nombre de victimes :\", nombre_victimes)\n",
    "    print(\"Nombre de secouristes :\", nombre_secouristes)\n",
    "    print(\"Nombre de personnes affectées :\", nombre_victimes + nombre_secouristes)"
   ]
  },
  {
   "cell_type": "markdown",
   "metadata": {},
   "source": [
    "#### What was the state of the victim [W] of <X>?"
   ]
  },
  {
   "cell_type": "code",
   "execution_count": 17,
   "metadata": {},
   "outputs": [
    {
     "name": "stdout",
     "output_type": "stream",
     "text": [
      "État de la victime_3 : ua\n"
     ]
    }
   ],
   "source": [
    "numero_victime = random.randint(0, int(nombre_victimes)) \n",
    "requete_sparql = f\"\"\"\n",
    "SELECT ?etatVictime\n",
    "WHERE {{\n",
    "    kesaio:victime_{numero_victime} kesaio:has_status ?etatVictime.\n",
    "}}\n",
    "\"\"\"\n",
    "resultats = executing_requete_sparql.executer_requete_sparql(g, requete_sparql, kesaio, common_core_ns)\n",
    "for row in resultats:\n",
    "    etat_victime = row[\"etatVictime\"].split('/')[-1]\n",
    "    print(f\"État de la victime_{numero_victime} : {etat_victime}\")"
   ]
  },
  {
   "cell_type": "markdown",
   "metadata": {},
   "source": [
    "#### What means of transport were used in the operation <X>?"
   ]
  },
  {
   "cell_type": "code",
   "execution_count": 18,
   "metadata": {},
   "outputs": [
    {
     "name": "stdout",
     "output_type": "stream",
     "text": [
      "Moyens des ERs :\n",
      "      Capteurs_de_mouvement\n",
      "      Détecteurs_de_battements_de_cœur\n",
      "      Détecteurs_de_chaleur\n",
      "      Grue\n",
      "      Marteaux-piqueurs\n",
      "      Vérin_hydrauliques\n",
      "      Scie\n",
      "      Véhicule_de_secours_et_d'assistance_aux_victimes\n",
      "      Véhicule_de_soutien_sanitaire\n",
      "      Ambulance\n"
     ]
    }
   ],
   "source": [
    "requete_sparql = \"\"\"\n",
    "SELECT DISTINCT ?type \n",
    "WHERE {\n",
    "    ?x rdf:type/rdfs:subClassOf* cco:OrganizationMember.\n",
    "    ?x <http://purl.obolibrary.org/obo/RO_0000056> ?action.\n",
    "    ?action kesaio:needs ?means.\n",
    "    ?means rdf:type ?type .\n",
    "    FILTER (?type != owl:NamedIndividual)\n",
    "    FILTER (?type != kesaio:Equipe_médicale) \n",
    "}\n",
    "\"\"\"\n",
    "resultats = executing_requete_sparql.executer_requete_sparql(g, requete_sparql, kesaio, common_core_ns)\n",
    "print(\"Moyens des ERs :\")\n",
    "for row in resultats:\n",
    "    actions = row[\"type\"].split(\"/\")[-1]\n",
    "    print(\"     \", actions)\n"
   ]
  },
  {
   "cell_type": "markdown",
   "metadata": {},
   "source": [
    "#### What types of means are needed to respond to a forest fire?"
   ]
  },
  {
   "cell_type": "code",
   "execution_count": 19,
   "metadata": {},
   "outputs": [
    {
     "name": "stdout",
     "output_type": "stream",
     "text": [
      "Types de moyens nécessaires pour répondre à un incendie de forêt :\n",
      "      Camion_de_citerne_feux_de_foret\n",
      "      Fourgon_pompe_tonne\n"
     ]
    }
   ],
   "source": [
    "requete_sparql = \"\"\"\n",
    "SELECT DISTINCT ?objetDeBesoin\n",
    "WHERE {\n",
    "    kesaio:Acte_dextinction_dincendie rdfs:subClassOf* ?restriction.\n",
    "    ?restriction owl:onProperty kesaio:needs.\n",
    "    ?restriction owl:someValuesFrom ?objetDeBesoin.\n",
    "}\n",
    "\"\"\"\n",
    "resultats = executing_requete_sparql.executer_requete_sparql(g, requete_sparql, kesaio, common_core_ns)\n",
    "print(\"Types de moyens nécessaires pour répondre à un incendie de forêt :\")\n",
    "for row in resultats:\n",
    "    means = row[\"objetDeBesoin\"].split(\"/\")[-1]\n",
    "    print(\"     \", means)\n"
   ]
  },
  {
   "cell_type": "markdown",
   "metadata": {},
   "source": [
    "#### What are the required specialties for firefighters in victim retrieval? Toutes les spécialités possible"
   ]
  },
  {
   "cell_type": "code",
   "execution_count": 20,
   "metadata": {},
   "outputs": [
    {
     "name": "stdout",
     "output_type": "stream",
     "text": [
      "Spécialités possibles:\n",
      "      Organization_Member_Function\n",
      "      Fonctions_de_Gendarme\n",
      "      Assistance_aux_victimes\n",
      "      Contrôle_des_frontières_et_des_migrations\n",
      "      Recherche_et_sauvetage\n",
      "      Travail_d'équipe_avec_d'autres_services\n",
      "      Maintien_de_l'ordre_public\n",
      "      Interventions_en_cas_d'infractions\n",
      "      Sécurité_publique_dans_les_zones_rurales\n",
      "      Surveillance_et_patrouille\n",
      "      Contrôles_routiers\n",
      "      Enquêtes_criminelles\n",
      "      Fonctions_de_Membre_SAMU\n",
      "      Conseil_et_orientation\n",
      "      Intervenir_dans_des_milieux_difficiles\n",
      "      Intervention_en_cas_de_crise\n",
      "      Diagnostic_des_troubles_mentaux\n",
      "      Gérer_les_appels_médicaux_critiques\n",
      "      Transport_médicalisé_des_patients\n",
      "      Gérer_les_situations_médicales_délicates\n",
      "      Intervention_en_santé_mentale\n",
      "      Coordonner_les_transferts_inter-hospitaliers\n",
      "      Pratiquer_des_gestes_médicaux_avancés\n",
      "      Utiliser_du_matériel_spécialisé\n",
      "      Apporter_un_soutien_médical_à_distance\n",
      "      Participer_à_des_opérations_de_sauvetage_complexes\n",
      "      Assurer_le_suivi_post-intervention\n",
      "      Évaluation_psychologique\n",
      "      Gerer_les_infrastructures\n",
      "      Fonctions_de_Policier\n",
      "      Mener_des_enquêtes_criminelles\n",
      "      Utiliser_des_techniques_de_défense_personnelle\n",
      "      Assister_les_victimes_et_témoins\n",
      "      Assurer_la_circulation_et_la_sécurité_routière\n",
      "      Assistance_administrative\n",
      "      Rédiger_des_rapports_et_des_procès-verbaux\n",
      "      Appliquer_la_loi_et_maintenir_l'ordre_public\n",
      "      Assurer_la_sécurité_lors_d'événements_spéciaux_ou_de_manifestations\n",
      "      Effectuer_des_arrestations\n",
      "      Traiter_les_situations_d'urgence_et_de_crise\n",
      "      Travailler_en_collaboration_avec_d'autres_services_d'urgence\n",
      "      Fonctions_de_Pompier\n",
      "      Procéder_à_des_évacuations_d'urgence\n",
      "      Former_et_encadrer_les_nouvelles_recrues\n",
      "      Fournir_des_soins_médicaux_d'urgence\n",
      "      Eteindre_les_incendies\n",
      "      Rechercher_des_victimes_en_cas_de_catastrophe\n",
      "      Assurer_la_sécurité_publique\n",
      "      Secourir_les_victimes_d'accidents_de_la_route\n",
      "      Effectuer_des_opérations_de_déblaiement\n",
      "      Assistance_à_la_collecte_et_au_transport_des_corps\n",
      "      Intervenir_dans_des_situations_de_sauvetage\n",
      "      Répondre_aux_appels_d'urgence\n",
      "      Assister_en_cas_de_situations_dangereuses\n",
      "      Effectuer_des_opérations_de_désincarcération\n",
      "      Fonctions_de_Autorité_Publique\n"
     ]
    }
   ],
   "source": [
    "requete_sparql = \"\"\"\n",
    "    SELECT DISTINCT ?func\n",
    "    WHERE {\n",
    "        ?func rdfs:subClassOf* kesaio:Organization_Member_Function.\n",
    "    }\n",
    "\"\"\"\n",
    "resultats = executing_requete_sparql.executer_requete_sparql(g, requete_sparql, kesaio, common_core_ns)\n",
    "print(\"Spécialités possibles:\")\n",
    "for row in resultats:\n",
    "    actions = row[\"func\"].split(\"/\")[-1]\n",
    "    print(\"     \", actions)"
   ]
  },
  {
   "cell_type": "code",
   "execution_count": 21,
   "metadata": {},
   "outputs": [
    {
     "data": {
      "text/plain": [
       "<Graph identifier=N6703df8b20ee4efca830d0f3201469cc (<class 'rdflib.graph.Graph'>)>"
      ]
     },
     "execution_count": 21,
     "metadata": {},
     "output_type": "execute_result"
    }
   ],
   "source": [
    "# Enregistrez l'ontologie enrichie dans un fichier RDF\n",
    "g.serialize(\"/home/mandiaye/LORIA/V2/monOnto/ontologie_enrichie.rdf\", format=\"xml\")"
   ]
  }
 ],
 "metadata": {
  "kernelspec": {
   "display_name": "Python 3 (ipykernel)",
   "language": "python",
   "name": "python3"
  },
  "language_info": {
   "codemirror_mode": {
    "name": "ipython",
    "version": 3
   },
   "file_extension": ".py",
   "mimetype": "text/x-python",
   "name": "python",
   "nbconvert_exporter": "python",
   "pygments_lexer": "ipython3",
   "version": "3.9.0"
  }
 },
 "nbformat": 4,
 "nbformat_minor": 2
}
