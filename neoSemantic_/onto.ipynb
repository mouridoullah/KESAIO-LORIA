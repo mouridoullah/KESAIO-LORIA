{
 "cells": [
  {
   "cell_type": "code",
   "execution_count": 1,
   "metadata": {},
   "outputs": [],
   "source": [
    "import rdflib\n",
    "from rdflib import Graph, Namespace\n",
    "import owlrl\n",
    "from rdflib.namespace import FOAF, DCTERMS, SKOS"
   ]
  },
  {
   "cell_type": "code",
   "execution_count": 2,
   "metadata": {},
   "outputs": [],
   "source": [
    "dbo = Namespace(\"http://dbpedia.org/ontology/\")"
   ]
  },
  {
   "cell_type": "code",
   "execution_count": 3,
   "metadata": {},
   "outputs": [
    {
     "name": "stdout",
     "output_type": "stream",
     "text": [
      "@prefix city: <http://example.org/city/> .\n",
      "@prefix dbo: <http://dbpedia.org/ontology/> .\n",
      "@prefix loria: <http://exemple.org/ontology/loria/> .\n",
      "@prefix owl: <http://www.w3.org/2002/07/owl#> .\n",
      "@prefix rdfs: <http://www.w3.org/2000/01/rdf-schema#> .\n",
      "\n",
      "city:Paris loria:nearTo city:Versailles .\n",
      "\n",
      "loria:nearTo a owl:SymmetricProperty ;\n",
      "    rdfs:domain dbo:PopulatedPlace ;\n",
      "    rdfs:range dbo:PopulatedPlace .\n",
      "\n",
      "\n"
     ]
    }
   ],
   "source": [
    "my_rdf = Graph().parse('data.ttl', format='turtle' )\n",
    "print(my_rdf.serialize(format=\"turtle\"))"
   ]
  },
  {
   "cell_type": "code",
   "execution_count": 4,
   "metadata": {},
   "outputs": [],
   "source": [
    "owlrl.DeductiveClosure(owlrl.RDFS_Semantics, datatype_axioms=True).expand(my_rdf)\n",
    "owlrl.DeductiveClosure(owlrl.OWLRL_Extension, datatype_axioms=True).expand(my_rdf)"
   ]
  },
  {
   "cell_type": "code",
   "execution_count": 5,
   "metadata": {},
   "outputs": [
    {
     "name": "stdout",
     "output_type": "stream",
     "text": [
      "http://example.org/city/Paris\n"
     ]
    }
   ],
   "source": [
    "spql = 'SELECT ?x WHERE { ct:Versailles loria:nearTo ?x .}'\n",
    "res = my_rdf.query(spql, initNs={\"loria\":\"http://exemple.org/ontology/loria/\", \"ct\":\"http://example.org/city/\" })\n",
    "\n",
    "for row in res:\n",
    "  print(row[\"x\"])\n"
   ]
  },
  {
   "cell_type": "code",
   "execution_count": 6,
   "metadata": {},
   "outputs": [
    {
     "name": "stdout",
     "output_type": "stream",
     "text": [
      "(rdflib.term.URIRef('http://dbpedia.org/ontology/PopulatedPlace'),)\n",
      "(rdflib.term.URIRef('http://www.w3.org/2000/01/rdf-schema#Resource'),)\n",
      "(rdflib.term.URIRef('http://www.w3.org/2002/07/owl#Thing'),)\n"
     ]
    }
   ],
   "source": [
    "spql = 'select ?x where { ct:Versailles a ?x . }'\n",
    "res = my_rdf.query(spql, initNs={\"dbo\":dbo, \"ct\":\"http://example.org/city/\"})\n",
    "\n",
    "for row in res:\n",
    "  print(row)"
   ]
  },
  {
   "cell_type": "markdown",
   "metadata": {},
   "source": [
    "### Select Well-known Ontologies"
   ]
  },
  {
   "cell_type": "code",
   "execution_count": 7,
   "metadata": {},
   "outputs": [],
   "source": [
    "dc_onto = Graph().parse(\"https://www.dublincore.org/specifications/dublin-core/dcmi-terms/dublin_core_terms.ttl\", format=\"turtle\")\n",
    "foaf_onto = Graph().parse(\"http://xmlns.com/foaf/0.1/index.rdf\", format=\"xml\")\n",
    "skos_onto = Graph().parse(\"http://www.w3.org/TR/skos-reference/skos.rdf\", format=\"xml\")\n",
    "pp = Namespace(\"http://example.org/people/\")"
   ]
  },
  {
   "cell_type": "markdown",
   "metadata": {},
   "source": [
    "### Create your Customed Ontology"
   ]
  },
  {
   "cell_type": "code",
   "execution_count": 8,
   "metadata": {},
   "outputs": [
    {
     "name": "stdout",
     "output_type": "stream",
     "text": [
      "LORIA ONTO --> .... @prefix dcterms: <http://purl.org/dc/terms/> .\n",
      "@prefix ex: <http://example.org/> .\n",
      "@prefix foaf: <http://xmlns.com/foaf/0.1/> .\n",
      "@prefix loria: <http://exemple.org/ontology/loria/> .\n",
      "@prefix owl: <http://www.w3.org/2002/07/owl#> .\n",
      "@prefix rdfs: <http://www.w3.org/2000/01/rdf-schema#> .\n",
      "@prefix skos: <http://www.w3.org/2004/02/skos/core#> .\n",
      "\n",
      "ex:Fantacy skos:broaderTransitive ex:Story .\n",
      "\n",
      "loria:write rdfs:domain foaf:Person ;\n",
      "    rdfs:range foaf:Document ;\n",
      "    rdfs:subPropertyOf dcterms:creator ;\n",
      "    owl:inverseOf loria:writtenBy .\n",
      "\n",
      "\n"
     ]
    }
   ],
   "source": [
    "rc_onto = Graph().parse('loria_onto.ttl', format='turtle' )\n",
    "print(\"LORIA ONTO --> ....\",rc_onto.serialize(format=\"turtle\"))"
   ]
  },
  {
   "cell_type": "markdown",
   "metadata": {},
   "source": [
    "### Create your RDF Data"
   ]
  },
  {
   "cell_type": "code",
   "execution_count": 9,
   "metadata": {},
   "outputs": [
    {
     "name": "stdout",
     "output_type": "stream",
     "text": [
      "@prefix ex: <http://example.org/> .\n",
      "@prefix loria: <http://exemple.org/ontology/loria/> .\n",
      "@prefix pp: <http://example.org/people/> .\n",
      "@prefix skos: <http://www.w3.org/2004/02/skos/core#> .\n",
      "\n",
      "pp:jkrowling loria:write ex:harry_potter .\n",
      "\n",
      "ex:harry_potter skos:broaderTransitive ex:Fantacy .\n",
      "\n",
      "\n"
     ]
    }
   ],
   "source": [
    "my_abox = Graph().parse('my_rdf.ttl', format='turtle' )\n",
    "print(my_abox.serialize(format=\"turtle\"))"
   ]
  },
  {
   "cell_type": "markdown",
   "metadata": {},
   "source": [
    "### Combine data and ontologies"
   ]
  },
  {
   "cell_type": "code",
   "execution_count": 10,
   "metadata": {},
   "outputs": [],
   "source": [
    "g = dc_onto + foaf_onto + skos_onto + rc_onto + my_abox"
   ]
  },
  {
   "cell_type": "markdown",
   "metadata": {},
   "source": [
    "### Deductive Closure"
   ]
  },
  {
   "cell_type": "code",
   "execution_count": 11,
   "metadata": {},
   "outputs": [],
   "source": [
    "owlrl.DeductiveClosure(owlrl.RDFS_Semantics, datatype_axioms=True).expand(g)\n",
    "owlrl.DeductiveClosure(owlrl.OWLRL_Extension, datatype_axioms=True).expand(g)"
   ]
  },
  {
   "cell_type": "markdown",
   "metadata": {},
   "source": [
    "### Query"
   ]
  },
  {
   "cell_type": "code",
   "execution_count": 12,
   "metadata": {},
   "outputs": [
    {
     "name": "stdout",
     "output_type": "stream",
     "text": [
      "http://www.w3.org/2004/02/skos/core#broaderTransitive http://example.org/Fantacy\n",
      "http://www.w3.org/2004/02/skos/core#broaderTransitive http://example.org/Story\n",
      "http://www.w3.org/2004/02/skos/core#semanticRelation http://example.org/Fantacy\n",
      "http://www.w3.org/2004/02/skos/core#semanticRelation http://example.org/Story\n",
      "http://www.w3.org/1999/02/22-rdf-syntax-ns#type http://www.w3.org/2000/01/rdf-schema#Resource\n",
      "http://www.w3.org/1999/02/22-rdf-syntax-ns#type http://xmlns.com/foaf/0.1/Document\n",
      "http://www.w3.org/1999/02/22-rdf-syntax-ns#type http://xmlns.com/wordnet/1.6/Document\n",
      "http://www.w3.org/1999/02/22-rdf-syntax-ns#type http://www.w3.org/2004/02/skos/core#Concept\n",
      "http://www.w3.org/1999/02/22-rdf-syntax-ns#type http://www.w3.org/2002/07/owl#Thing\n",
      "http://www.w3.org/1999/02/22-rdf-syntax-ns#type N6c393f5b320241da87e000e692c7d941\n",
      "http://www.w3.org/1999/02/22-rdf-syntax-ns#type http://xmlns.com/wordnet/1.6/Agent-3\n",
      "http://www.w3.org/1999/02/22-rdf-syntax-ns#type http://xmlns.com/foaf/0.1/Agent\n",
      "http://exemple.org/ontology/loria/writtenBy http://example.org/people/jkrowling\n",
      "http://www.w3.org/2002/07/owl#sameAs http://example.org/harry_potter\n",
      "http://xmlns.com/foaf/0.1/made http://example.org/people/jkrowling\n"
     ]
    }
   ],
   "source": [
    "# What is Harry Potter?\n",
    "\n",
    "spql = 'SELECT ?p ?o WHERE { ex:harry_potter ?p ?o.}'\n",
    "res = g.query(spql, initNs={\"foaf\":FOAF, \"pp\":pp, \"ex\":\"http://example.org/\"})\n",
    "\n",
    "for row in res:\n",
    "  print(row[\"p\"], row[\"o\"])"
   ]
  },
  {
   "cell_type": "code",
   "execution_count": 13,
   "metadata": {},
   "outputs": [
    {
     "name": "stdout",
     "output_type": "stream",
     "text": [
      "http://exemple.org/ontology/loria/write http://example.org/harry_potter\n",
      "http://www.w3.org/1999/02/22-rdf-syntax-ns#type http://www.w3.org/2000/01/rdf-schema#Resource\n",
      "http://www.w3.org/1999/02/22-rdf-syntax-ns#type http://xmlns.com/foaf/0.1/Person\n",
      "http://www.w3.org/1999/02/22-rdf-syntax-ns#type http://www.w3.org/2003/01/geo/wgs84_pos#SpatialThing\n",
      "http://www.w3.org/1999/02/22-rdf-syntax-ns#type http://www.w3.org/2000/10/swap/pim/contact#Person\n",
      "http://www.w3.org/1999/02/22-rdf-syntax-ns#type http://xmlns.com/wordnet/1.6/Person\n",
      "http://www.w3.org/1999/02/22-rdf-syntax-ns#type http://xmlns.com/foaf/0.1/Agent\n",
      "http://www.w3.org/1999/02/22-rdf-syntax-ns#type http://xmlns.com/wordnet/1.6/Agent-3\n",
      "http://www.w3.org/1999/02/22-rdf-syntax-ns#type http://www.w3.org/2002/07/owl#Thing\n",
      "http://purl.org/dc/terms/creator http://example.org/harry_potter\n",
      "http://purl.org/dc/terms/contributor http://example.org/harry_potter\n",
      "http://purl.org/dc/elements/1.1/contributor http://example.org/harry_potter\n",
      "http://purl.org/dc/elements/1.1/creator http://example.org/harry_potter\n",
      "http://xmlns.com/foaf/0.1/maker http://example.org/harry_potter\n",
      "http://www.w3.org/2002/07/owl#sameAs http://example.org/people/jkrowling\n"
     ]
    }
   ],
   "source": [
    "# What is JK Rowling?\n",
    "\n",
    "spql = 'SELECT ?p ?o WHERE { pp:jkrowling ?p ?o.}'\n",
    "res = g.query(spql, initNs={\"foaf\":FOAF, \"pp\":pp, \"ex\":\"http://example.org/\"})\n",
    "\n",
    "for row in res:\n",
    "  print(row[\"p\"], row[\"o\"])"
   ]
  },
  {
   "cell_type": "markdown",
   "metadata": {},
   "source": [
    "## To Query with well-known Terms"
   ]
  },
  {
   "cell_type": "code",
   "execution_count": 14,
   "metadata": {},
   "outputs": [
    {
     "name": "stdout",
     "output_type": "stream",
     "text": [
      "http://example.org/people/jkrowling\n"
     ]
    }
   ],
   "source": [
    "# Who are Person?\n",
    "\n",
    "spql = 'SELECT ?x WHERE { ?x a foaf:Person .}'\n",
    "res = g.query(spql, initNs={\"foaf\":FOAF, \"pp\":pp, \"ex\":\"http://example.org/\"})\n",
    "\n",
    "for row in res:\n",
    "  print(row[\"x\"])"
   ]
  },
  {
   "cell_type": "code",
   "execution_count": 15,
   "metadata": {},
   "outputs": [
    {
     "name": "stdout",
     "output_type": "stream",
     "text": [
      "http://example.org/harry_potter\n"
     ]
    }
   ],
   "source": [
    "# What are Documents?\n",
    "\n",
    "spql = 'SELECT ?x WHERE { ?x a foaf:Document .}'\n",
    "res = g.query(spql, initNs={\"foaf\":FOAF, \"pp\":pp, \"ex\":\"http://example.org/\"})\n",
    "\n",
    "for row in res:\n",
    "  print(row[\"x\"])"
   ]
  },
  {
   "cell_type": "code",
   "execution_count": 16,
   "metadata": {},
   "outputs": [
    {
     "name": "stdout",
     "output_type": "stream",
     "text": [
      "http://www.w3.org/2004/02/skos/core Sean Bechhofer\n",
      "http://www.w3.org/2004/02/skos/core Alistair Miles\n",
      "http://example.org/people/jkrowling http://example.org/harry_potter\n"
     ]
    }
   ],
   "source": [
    "# Who write what?\n",
    "\n",
    "spql = 'SELECT ?x ?y WHERE { ?x dcterms:creator ?y .}'\n",
    "res = g.query(spql, initNs={\"foaf\":FOAF, \"pp\":pp, \"ex\":\"http://example.org/\", \"dcterms\":DCTERMS})\n",
    "\n",
    "for row in res:\n",
    "  print(row[\"x\"], row[\"y\"])"
   ]
  },
  {
   "cell_type": "code",
   "execution_count": 17,
   "metadata": {},
   "outputs": [
    {
     "name": "stdout",
     "output_type": "stream",
     "text": [
      "http://example.org/Fantacy\n",
      "http://example.org/Story\n"
     ]
    }
   ],
   "source": [
    "# What are boader Concepts of harry potter\n",
    "\n",
    "spql = 'SELECT ?x WHERE { ex:harry_potter skos:broaderTransitive ?x .}'\n",
    "res = g.query(spql, initNs={\"foaf\":FOAF, \"pp\":pp, \"ex\":\"http://example.org/\", \"dcterms\":DCTERMS, \"skos\":SKOS})\n",
    "\n",
    "for row in res:\n",
    "  print(row[\"x\"])"
   ]
  },
  {
   "cell_type": "code",
   "execution_count": 18,
   "metadata": {},
   "outputs": [
    {
     "name": "stdout",
     "output_type": "stream",
     "text": [
      "http://example.org/Story\n"
     ]
    }
   ],
   "source": [
    "# What are boader Concepts of Fantacy\n",
    "\n",
    "spql = 'SELECT ?x WHERE { ex:Fantacy skos:broaderTransitive ?x .}'\n",
    "res = g.query(spql, initNs={\"foaf\":FOAF, \"pp\":pp, \"ex\":\"http://example.org/\", \"dcterms\":DCTERMS, \"skos\":SKOS})\n",
    "\n",
    "for row in res:\n",
    "  print(row[\"x\"])"
   ]
  },
  {
   "cell_type": "code",
   "execution_count": 19,
   "metadata": {},
   "outputs": [
    {
     "name": "stdout",
     "output_type": "stream",
     "text": [
      "http://example.org/harry_potter\n"
     ]
    }
   ],
   "source": [
    "# What are narrower Concepts of Fantacy\n",
    "\n",
    "spql = 'SELECT ?x WHERE { ex:Fantacy skos:narrowerTransitive ?x .}'\n",
    "res = g.query(spql, initNs={\"foaf\":FOAF, \"pp\":pp, \"ex\":\"http://example.org/\", \"dcterms\":DCTERMS, \"skos\":SKOS})\n",
    "\n",
    "for row in res:\n",
    "  print(row[\"x\"])"
   ]
  },
  {
   "cell_type": "code",
   "execution_count": 20,
   "metadata": {},
   "outputs": [
    {
     "name": "stdout",
     "output_type": "stream",
     "text": [
      "http://example.org/Fantacy\n",
      "http://example.org/harry_potter\n"
     ]
    }
   ],
   "source": [
    "# What are narrower Concepts of Story\n",
    "\n",
    "spql = 'SELECT ?x WHERE { ex:Story skos:narrowerTransitive ?x .}'\n",
    "res = g.query(spql, initNs={\"foaf\":FOAF, \"pp\":pp, \"ex\":\"http://example.org/\", \"dcterms\":DCTERMS, \"skos\":SKOS})\n",
    "\n",
    "for row in res:\n",
    "  print(row[\"x\"])"
   ]
  },
  {
   "cell_type": "code",
   "execution_count": 21,
   "metadata": {},
   "outputs": [
    {
     "name": "stdout",
     "output_type": "stream",
     "text": [
      "True\n"
     ]
    }
   ],
   "source": [
    "# ASK\n",
    "\n",
    "spql = 'ASK {ex:harry_potter skos:broaderTransitive ex:Story .}'\n",
    "res = g.query(spql, initNs={\"foaf\":FOAF, \"pp\":pp, \"ex\":\"http://example.org/\", \"dcterms\":DCTERMS, \"skos\":SKOS})\n",
    "\n",
    "for row in res:\n",
    "  print(row)"
   ]
  },
  {
   "cell_type": "code",
   "execution_count": 22,
   "metadata": {},
   "outputs": [
    {
     "name": "stdout",
     "output_type": "stream",
     "text": [
      "Vous avez entré : \n"
     ]
    }
   ],
   "source": [
    "texte = input(\"Entrez une chaîne de caractères : \")\n",
    "print(\"Vous avez entré : \" + texte)"
   ]
  },
  {
   "cell_type": "code",
   "execution_count": null,
   "metadata": {},
   "outputs": [],
   "source": []
  }
 ],
 "metadata": {
  "kernelspec": {
   "display_name": "base",
   "language": "python",
   "name": "python3"
  },
  "language_info": {
   "codemirror_mode": {
    "name": "ipython",
    "version": 3
   },
   "file_extension": ".py",
   "mimetype": "text/x-python",
   "name": "python",
   "nbconvert_exporter": "python",
   "pygments_lexer": "ipython3",
   "version": "3.9.16"
  },
  "orig_nbformat": 4
 },
 "nbformat": 4,
 "nbformat_minor": 2
}
