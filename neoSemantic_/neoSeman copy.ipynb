{
  "cells": [
    {
      "attachments": {},
      "cell_type": "markdown",
      "id": "2-4F3kLK4HjU",
      "metadata": {
        "id": "2-4F3kLK4HjU"
      },
      "source": [
        "# Catastrophe"
      ]
    },
    {
      "cell_type": "code",
      "execution_count": null,
      "id": "2a159217",
      "metadata": {},
      "outputs": [],
      "source": [
        "import warnings\n",
        "warnings.filterwarnings('ignore')"
      ]
    },
    {
      "attachments": {},
      "cell_type": "markdown",
      "id": "1eee026d",
      "metadata": {},
      "source": [
        "#### Connection à la base"
      ]
    },
    {
      "cell_type": "code",
      "execution_count": null,
      "id": "77ef7742",
      "metadata": {},
      "outputs": [],
      "source": [
        "# Define Neo4j connections\n",
        "import pandas as pd\n",
        "import random\n",
        "from neo4j import GraphDatabase\n",
        "host = 'bolt://localhost:7687'\n",
        "user = 'neo4j'\n",
        "password = 'password'\n",
        "driver = GraphDatabase.driver(host,auth=(user, password))\n",
        "\n",
        "# Configuration de l'option d'affichage\n",
        "pd.set_option('display.max_rows', None)"
      ]
    },
    {
      "cell_type": "code",
      "execution_count": null,
      "id": "1567c716",
      "metadata": {},
      "outputs": [],
      "source": [
        "def run_query(query):\n",
        "    with driver.session() as session:\n",
        "        result = session.run(query)\n",
        "        return pd.DataFrame([r.values() for r in result], columns=result.keys())"
      ]
    },
    {
      "attachments": {},
      "cell_type": "markdown",
      "id": "33202892",
      "metadata": {},
      "source": [
        "#### Suppression des données"
      ]
    },
    {
      "cell_type": "code",
      "execution_count": null,
      "id": "4286357d",
      "metadata": {},
      "outputs": [],
      "source": [
        "delete_node = \"\"\"\n",
        "    MATCH (n)\n",
        "    WHERE NOT labels(n) = ['_GraphConfig']\n",
        "    DETACH DELETE n\n",
        "\"\"\"\n",
        "run_query(delete_node)"
      ]
    },
    {
      "attachments": {},
      "cell_type": "markdown",
      "id": "43e47b8d",
      "metadata": {},
      "source": [
        "#### Configuration de la base"
      ]
    },
    {
      "cell_type": "code",
      "execution_count": null,
      "id": "502dc3a9",
      "metadata": {},
      "outputs": [],
      "source": [
        "deleConfig = \"\"\"\n",
        "CALL n10s.graphconfig.drop\n",
        "\"\"\"\n",
        "run_query(deleConfig)\n",
        "\n",
        "n10s_config_query = \"\"\"\n",
        "CALL n10s.graphconfig.init({ handleVocabUris: \"IGNORE\", keepLangTag: false, handleMultival: \"OVERWRITE\"});\n",
        "\"\"\"\n",
        "run_query(n10s_config_query)"
      ]
    },
    {
      "cell_type": "code",
      "execution_count": null,
      "id": "c7bfddc6",
      "metadata": {},
      "outputs": [],
      "source": [
        "n10s_config_query = \"\"\"\n",
        "CREATE CONSTRAINT  n10s_unique_uri IF NOT EXISTS FOR (r:Resource) REQUIRE r.uri IS UNIQUE;\n",
        "\"\"\"\n",
        "run_query(n10s_config_query)"
      ]
    },
    {
      "attachments": {},
      "cell_type": "markdown",
      "id": "435ea50a",
      "metadata": {},
      "source": [
        "#### Importaion de l'ontologie"
      ]
    },
    {
      "cell_type": "code",
      "execution_count": null,
      "id": "774946c6",
      "metadata": {},
      "outputs": [],
      "source": [
        "import_ontology = \"\"\"\n",
        "    CALL n10s.onto.import.fetch(\"https://raw.githubusercontent.com/mouridoullah/elk-knowledge-graph/main/rdfData/file_11.ttl\", \"Turtle\") \n",
        "\"\"\"\n",
        "\n",
        "\n",
        "run_query(import_ontology)"
      ]
    },
    {
      "attachments": {},
      "cell_type": "markdown",
      "id": "0a24859e",
      "metadata": {},
      "source": [
        "#### Nombre de secouristes"
      ]
    },
    {
      "cell_type": "code",
      "execution_count": null,
      "id": "b9e7e8a2",
      "metadata": {},
      "outputs": [],
      "source": [
        "rsecouriste = \"\"\"\n",
        "CALL n10s.rdf.import.fetch(\"https://raw.githubusercontent.com/mouridoullah/elk-knowledge-graph/main/rdfData/file6.ttl\",\"Turtle\");\n",
        "\"\"\"\n",
        "run_query(rsecouriste)\n",
        "labels = [\"Médecin\", \"Militaire\", \"Infirmier\", \"Pompiers\"]\n",
        "for label in labels:\n",
        "    query2 = f'''\n",
        "                MATCH (n:{label})\n",
        "                UNWIND n.NombreDindividus AS nombre \n",
        "                MERGE (n)-[:NombreDindividus]->(:Effectif {{value: nombre}})'''\n",
        "    run_query(query2)\n",
        "    query = f\"MATCH (c:Resource {{name: '{label}'}}), (d:{label}) MERGE (d)-[:instanceOf]->(c)\"\n",
        "    run_query(query)"
      ]
    },
    {
      "attachments": {},
      "cell_type": "markdown",
      "id": "63c352c7",
      "metadata": {},
      "source": [
        "| Catastrophe  | QCode         | \n",
        "| :--------------- |:---------------:| \n",
        "|Séisme | Q7944 |\n",
        "|Inondation | Q76337338|\n",
        "|IncendieDeForet | Q169950|\n",
        "|Tempete | Q81054|\n",
        "|Secheresse | Q43059|\n",
        "|GlissementDeTerrain | Q167903 |\n",
        "|Tsunami | Q8070|\n",
        "|cyclone | Q79602|\n",
        "|AccidentDeTrain | Q1078765|\n",
        "|IncendieDeMaison | Q7625093|\n",
        "|Explosion | Q179057|\n",
        "|AccidentNucleaire | Q1620824|\n",
        "\n",
        "   "
      ]
    },
    {
      "cell_type": "code",
      "execution_count": null,
      "id": "14804f03",
      "metadata": {},
      "outputs": [],
      "source": [
        "disasters = {\n",
        "    \"Seisme\": \"Q7944\",\n",
        "    \"Inondation\": \"Q8068\",\n",
        "    \"IncendieDeForet\": \"Q169950\",\n",
        "    \"Tempete\": \"Q81054\",\n",
        "    \"Secheresse\": \"Q43059\",\n",
        "    \"Tsunami\": \"Q8070\",\n",
        "    \"AccidentDeTrain\": \"Q1078765\",\n",
        "    \"IncendieDeMaison\": \"Q7625093\",\n",
        "    \"Explosion\": \"Q179057\"\n",
        "    # \"AccidentNucleaire\": \"Q1620824\",\n",
        "    # \"GlissementDeTerrain\": \"Q167903\",\n",
        "    # \"Cyclone\": \"Q79602\"\n",
        "}"
      ]
    },
    {
      "cell_type": "code",
      "execution_count": null,
      "id": "f9b43acf",
      "metadata": {},
      "outputs": [],
      "source": [
        "def get_random_disaster():\n",
        "    liste_de_tuples = list(disasters.items())\n",
        "    tuple_aléatoire = random.choice(liste_de_tuples)\n",
        "    clé_aléatoire = tuple_aléatoire[0]\n",
        "    valeur_aléatoire = tuple_aléatoire[1]\n",
        "    return clé_aléatoire, valeur_aléatoire"
      ]
    },
    {
      "attachments": {},
      "cell_type": "markdown",
      "id": "3e8d8864",
      "metadata": {},
      "source": [
        "#### Ajout d'une catastrophe"
      ]
    },
    {
      "cell_type": "code",
      "execution_count": null,
      "id": "739001ab",
      "metadata": {},
      "outputs": [],
      "source": [
        "clé_aléatoire, valeur_aléatoire = get_random_disaster()\n",
        "\n",
        "query = f'''\n",
        "WITH \n",
        "'\n",
        "CONSTRUCT {{\n",
        "  ?event a schema:{clé_aléatoire}, schema:Event ;\n",
        "          schema:name ?eventLabel ;\n",
        "          schema:description ?description ;\n",
        "          schema:startDate ?date ;\n",
        "          schema:aLieu ?location ;\n",
        "          schema:numberOfInjured ?numberOfInjured ;\n",
        "          schema:numberOfDeaths ?numberOfDeaths ;\n",
        "          schema:aLieu ?locatedIn .\n",
        "  ?location rdfs:label ?locationLabel ; a schema:Country, schema:SpatialThing.\n",
        "  ?locatedIn rdfs:label ?locatedInLabel ; a schema:City, schema:SpatialThing.\n",
        "}} WHERE {{\n",
        "  ?event wdt:P31/wdt:P279* wd:{valeur_aléatoire} ;\n",
        "          wdt:P17 ?location ;\n",
        "          wdt:P585 ?date .\n",
        "  OPTIONAL {{ ?event wdt:P2320 ?aftershocks . }}\n",
        "  OPTIONAL {{ ?event wdt:P18 ?image . }}\n",
        "  OPTIONAL {{ ?event wdt:P10 ?video . }}\n",
        "  OPTIONAL {{ ?event wdt:P2528 ?magnitude . }}\n",
        "  OPTIONAL {{ ?event wdt:P1339 ?numberOfInjured . }}\n",
        "  OPTIONAL {{ ?event wdt:P1120 ?numberOfDeaths . }}\n",
        "  OPTIONAL {{ ?event wdt:P131 ?locatedIn . ?locatedIn rdfs:label ?locatedInLabel . FILTER(LANG(?locatedInLabel) = \"fr\") }}\n",
        "  OPTIONAL {{ ?event schema:description ?description . FILTER(LANG(?description) = \"fr\") }}\n",
        "  ?location rdfs:label ?locationLabel . FILTER(LANG(?locationLabel) = \"fr\")\n",
        "  ?event rdfs:label ?eventLabel . FILTER(LANG(?eventLabel) = \"fr\")\n",
        "  SERVICE wikibase:label {{ bd:serviceParam wikibase:language \"[AUTO_LANGUAGE],fr\". }}\n",
        "}} ORDER BY RAND()\n",
        "LIMIT 1\n",
        "' AS sparql\n",
        "CALL n10s.rdf.import.fetch(\n",
        "  \"https://query.wikidata.org/sparql?query=\" + \n",
        "    apoc.text.urlencode(sparql),\"JSON-LD\", \n",
        "  {{ headerParams: {{ Accept: \"application/ld+json\"}} , \n",
        "    handleVocabUris: \"IGNORE\"}}) \n",
        "YIELD terminationStatus, triplesLoaded \n",
        "RETURN terminationStatus, triplesLoaded\n",
        "'''\n",
        "\n",
        "print(clé_aléatoire)\n",
        "\n",
        "run_query(query)\n",
        "\n",
        "unwind = f'''\n",
        "MATCH (n:{clé_aléatoire})\n",
        "UNWIND n.startDate AS startDate\n",
        "MERGE (n)-[:aPourDate]->(:Date {{ value: startDate }})\n",
        "\n",
        "WITH n\n",
        "UNWIND n.numberOfDeaths AS numberOfDeaths\n",
        "MERGE (n)-[:Implique]->(:Morts {{ value: numberOfDeaths }})\n",
        "\n",
        "WITH n\n",
        "UNWIND n.numberOfInjured AS numberOfInjured\n",
        "MERGE (n)-[:Implique]->(:Blesses {{ value: numberOfInjured }})\n",
        "'''\n",
        "run_query(unwind)\n",
        "\n",
        "labels = [\"Seisme\", \"Inondation\", \"IncendieDeForet\", \"Tempete\", \"Secheresse\", \"GlissementDeTerrain\", \"Tsunami\", \"Cyclone\", \"Date\", \"SpatialThing\", \n",
        "          \"AccidentDeTrain\", \"IncendieDeMaison\", \"Explosion\", \"AccidentNucleaire\", \"Morts\", \"Blesses\"]\n",
        "for label in labels:\n",
        "    query = f\"MATCH (c:Resource {{name: '{label}'}}), (d:{label}) MERGE (d)-[:instanceOf]->(c)\"\n",
        "    run_query(query)"
      ]
    },
    {
      "cell_type": "code",
      "execution_count": null,
      "id": "5d24c500",
      "metadata": {},
      "outputs": [],
      "source": [
        "injuryOrDeath = \"\"\"\n",
        "    MATCH (injury)<-[:Implique]-(event:Event)-[:Implique]->(death)\n",
        "    WHERE (death:Morts) OR (injury:Blesses)\n",
        "    RETURN event.name as Catastrophe, injury.value as Blessés, id(injury) as idBlessés, death.value as Morts, id(death) as idMorts\n",
        "\"\"\"\n",
        "res = run_query(injuryOrDeath)\n",
        "res"
      ]
    },
    {
      "cell_type": "code",
      "execution_count": null,
      "id": "12ef8c33",
      "metadata": {},
      "outputs": [],
      "source": [
        "if res[\"Blessés\"].eq(0).all():\n",
        "    print(\"La valeur de 'Blessés' est égale à zéro.\")\n",
        "else:\n",
        "    print(\"La valeur de 'Blessés' n'est pas égale à zéro.\")\n",
        "    id_blesses = res[\"idBlessés\"]\n",
        "    with driver.session() as session:\n",
        "\n",
        "        session.run(\"\"\"CREATE (equipe:EquipeDeSecours) SET equipe.name = \"Equipe\"\n",
        "            CREATE (soigner:Soigner) SET soigner.name = \"Soigner\"\n",
        "            CREATE (equipe)-[:Effectue]->(soigner)\n",
        "            WITH soigner, equipe\n",
        "            MATCH (b:Blesses)\n",
        "            WHERE id(b) = $idBlesses\n",
        "            CREATE (soigner)-[:OperationDeSoins]->(blesses)\"\"\", idBlesses=id_blesses)\n",
        "\n",
        "\n",
        "    labels = [\"EquipeDeSecours\", \"Soigner\"]\n",
        "    for label in labels:\n",
        "        query = f\"MATCH (c:Resource {{name: '{label}'}}), (d:{label}) MERGE (d)-[:instanceOf]->(c)\"\n",
        "        run_query(query)\n"
      ]
    },
    {
      "cell_type": "code",
      "execution_count": null,
      "id": "91b6e93a",
      "metadata": {},
      "outputs": [],
      "source": [
        "# unwind = f'''\n",
        "# MATCH (n:{clé_aléatoire})\n",
        "# UNWIND n.startDate AS startDate\n",
        "# MERGE (n)-[:aPourDate]->(:Date {{ value: startDate }})\n",
        "\n",
        "# WITH n\n",
        "# UNWIND n.numberOfDeaths AS numberOfDeaths\n",
        "# MERGE (n)-[:Implique]->(:Morts {{ value: numberOfDeaths }})\n",
        "\n",
        "# WITH n\n",
        "# UNWIND n.numberOfInjured AS numberOfInjured\n",
        "# MERGE (n)-[:Implique]->(:Blesses {{ value: numberOfInjured }})\n",
        "# '''\n",
        "# run_query(unwind)"
      ]
    },
    {
      "cell_type": "code",
      "execution_count": null,
      "id": "254b9ef6",
      "metadata": {},
      "outputs": [],
      "source": [
        "# labels = [\"Seisme\", \"Inondation\", \"IncendieDeForet\", \"Tempete\", \"Secheresse\", \"GlissementDeTerrain\", \"Tsunami\", \"Cyclone\", \"Date\", \"SpatialThing\", \n",
        "#           \"AccidentDeTrain\", \"IncendieDeMaison\", \"Explosion\", \"AccidentNucleaire\", \"Morts\", \"Blesses\"]\n",
        "# for label in labels:\n",
        "#     query = f\"MATCH (c:Resource {{name: '{label}'}}), (d:{label}) MERGE (d)-[:instanceOf]->(c)\"\n",
        "#     run_query(query)"
      ]
    },
    {
      "attachments": {},
      "cell_type": "markdown",
      "id": "5b63404e",
      "metadata": {},
      "source": [
        "| Type de secour  | Nombre de victimes    | Nombre de secours | \n",
        "| :--------------- |:---------------:| :---------------:| \n",
        "|Séisme | Q7944 | Q7944 |\n",
        "\n"
      ]
    }
  ],
  "metadata": {
    "colab": {
      "provenance": []
    },
    "kernelspec": {
      "display_name": "Python 3",
      "language": "python",
      "name": "python3"
    },
    "language_info": {
      "codemirror_mode": {
        "name": "ipython",
        "version": 3
      },
      "file_extension": ".py",
      "mimetype": "text/x-python",
      "name": "python",
      "nbconvert_exporter": "python",
      "pygments_lexer": "ipython3",
      "version": "3.9.16"
    }
  },
  "nbformat": 4,
  "nbformat_minor": 5
}
